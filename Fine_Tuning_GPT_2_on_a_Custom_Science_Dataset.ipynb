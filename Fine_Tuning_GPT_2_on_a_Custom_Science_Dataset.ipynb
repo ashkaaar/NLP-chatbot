{
  "nbformat": 4,
  "nbformat_minor": 0,
  "metadata": {
    "colab": {
      "name": "Fine-Tuning GPT-2 on a Custom Science Dataset",
      "provenance": []
    },
    "kernelspec": {
      "name": "python3",
      "display_name": "Python 3"
    },
    "accelerator": "TPU"
  },
  "cells": [
    {
      "cell_type": "markdown",
      "metadata": {
        "id": "nXQ9wn5dfiBz"
      },
      "source": [
        "# Fine-tuning GPT-2 on a Custom Dataset"
      ]
    },
    {
      "cell_type": "markdown",
      "metadata": {
        "id": "sL4ht6hRHj1W"
      },
      "source": [
        "## Setup"
      ]
    },
    {
      "cell_type": "code",
      "metadata": {
        "id": "KBkpRgBCBS2_",
        "colab": {
          "base_uri": "https://localhost:8080/"
        },
        "outputId": "d8af68dc-9217-4277-8a54-24a4c65e4470"
      },
      "source": [
        "!pip install -q gpt-2-simple"
      ],
      "execution_count": 2,
      "outputs": [
        {
          "output_type": "stream",
          "name": "stdout",
          "text": [
            "  Preparing metadata (setup.py) ... \u001b[?25l\u001b[?25hdone\n",
            "  Building wheel for gpt-2-simple (setup.py) ... \u001b[?25l\u001b[?25hdone\n"
          ]
        }
      ]
    },
    {
      "cell_type": "markdown",
      "metadata": {
        "id": "FYfTaj9lfgDa"
      },
      "source": [
        "Imports"
      ]
    },
    {
      "cell_type": "code",
      "metadata": {
        "id": "dJOSDm7EF00R"
      },
      "source": [
        "import gpt_2_simple as gpt2\n",
        "from datetime import datetime\n",
        "from google.colab import files"
      ],
      "execution_count": 4,
      "outputs": []
    },
    {
      "cell_type": "markdown",
      "metadata": {
        "id": "Gvlc3CXwhDal"
      },
      "source": [
        "Download GPT-2 models.  \n",
        "When fine-tuning on a single GPU, only the 124M and 335M size models can be used."
      ]
    },
    {
      "cell_type": "code",
      "metadata": {
        "id": "P8wSlgXoDPCR",
        "colab": {
          "base_uri": "https://localhost:8080/"
        },
        "outputId": "2d434af7-f9fe-44fd-de68-d7a698e85d56"
      },
      "source": [
        "gpt2.download_gpt2(model_name=\"124M\")\n"
      ],
      "execution_count": 5,
      "outputs": [
        {
          "output_type": "stream",
          "name": "stderr",
          "text": [
            "Fetching checkpoint: 1.05Mit [00:00, 2.44Git/s]                                                     \n",
            "Fetching encoder.json: 1.05Mit [00:00, 4.03Mit/s]\n",
            "Fetching hparams.json: 1.05Mit [00:00, 188Mit/s]                                                    \n",
            "Fetching model.ckpt.data-00000-of-00001: 498Mit [00:10, 49.3Mit/s]                                  \n",
            "Fetching model.ckpt.index: 1.05Mit [00:00, 1.16Git/s]                                               \n",
            "Fetching model.ckpt.meta: 1.05Mit [00:00, 5.84Mit/s]\n",
            "Fetching vocab.bpe: 1.05Mit [00:00, 6.31Mit/s]\n"
          ]
        }
      ]
    },
    {
      "cell_type": "markdown",
      "metadata": {
        "id": "-mLQqkm5G-A1"
      },
      "source": [
        "Set variables"
      ]
    },
    {
      "cell_type": "code",
      "metadata": {
        "id": "6OFnPCLADfll"
      },
      "source": [
        "file_name = \"data.txt\"\n",
        "run_name = 'fine_tuning_run1'\n",
        "model_size = '124M'"
      ],
      "execution_count": 6,
      "outputs": []
    },
    {
      "cell_type": "markdown",
      "source": [],
      "metadata": {
        "id": "O3NaBmr67AZY"
      }
    },
    {
      "cell_type": "code",
      "source": [
        "from google.colab import drive\n",
        "drive.mount('/content/gdrive', force_remount=True)"
      ],
      "metadata": {
        "id": "J9zgb04c7A-y",
        "outputId": "71cd1a17-afad-4eac-dff1-1b9a1c402eb4",
        "colab": {
          "base_uri": "https://localhost:8080/"
        }
      },
      "execution_count": 9,
      "outputs": [
        {
          "output_type": "stream",
          "name": "stdout",
          "text": [
            "Mounted at /content/gdrive\n"
          ]
        }
      ]
    },
    {
      "cell_type": "code",
      "metadata": {
        "id": "puq4iC6vUAHc",
        "colab": {
          "base_uri": "https://localhost:8080/"
        },
        "outputId": "aeb8502e-20b2-4537-fd65-f4869fed8d9a"
      },
      "source": [
        "gpt2.mount_gdrive()"
      ],
      "execution_count": 10,
      "outputs": [
        {
          "output_type": "stream",
          "name": "stdout",
          "text": [
            "Mounted at /content/drive\n"
          ]
        }
      ]
    },
    {
      "cell_type": "code",
      "metadata": {
        "id": "-Z6okFD8VKtS"
      },
      "source": [
        "gpt2.copy_file_from_gdrive(file_name)"
      ],
      "execution_count": 13,
      "outputs": []
    },
    {
      "cell_type": "markdown",
      "metadata": {
        "id": "L0qodq58HZmO"
      },
      "source": [
        "## Perform fine-tuning"
      ]
    },
    {
      "cell_type": "code",
      "metadata": {
        "id": "aeXshJM-Cuaf",
        "colab": {
          "base_uri": "https://localhost:8080/"
        },
        "outputId": "fa123f85-5c90-4ffd-b763-e091370d596c"
      },
      "source": [
        "sess = gpt2.start_tf_sess()\n",
        "\n",
        "gpt2.finetune(sess,\n",
        "              dataset=file_name,\n",
        "              model_name=model_size,\n",
        "              steps=200,\n",
        "              restore_from='fresh',\n",
        "              run_name = run_name,\n",
        "              print_every=10,\n",
        "              sample_every=50,\n",
        "              save_every=50)"
      ],
      "execution_count": 14,
      "outputs": [
        {
          "output_type": "stream",
          "name": "stdout",
          "text": [
            "Loading checkpoint models/124M/model.ckpt\n",
            "Loading dataset...\n"
          ]
        },
        {
          "output_type": "stream",
          "name": "stderr",
          "text": [
            "100%|██████████| 1/1 [00:00<00:00,  2.35it/s]\n"
          ]
        },
        {
          "output_type": "stream",
          "name": "stdout",
          "text": [
            "dataset has 65337 tokens\n",
            "Training...\n",
            "[10 | 1511.66] loss=1.80 avg=1.80\n",
            "interrupted\n",
            "Saving checkpoint/fine_tuning_run1/model-18\n"
          ]
        }
      ]
    },
    {
      "cell_type": "code",
      "metadata": {
        "id": "VHdTL8NDbAh3"
      },
      "source": [
        "gpt2.copy_checkpoint_to_gdrive(run_name)"
      ],
      "execution_count": 15,
      "outputs": []
    },
    {
      "cell_type": "markdown",
      "metadata": {
        "id": "rvL8l2rCcp-V"
      },
      "source": [
        "End of training"
      ]
    },
    {
      "cell_type": "markdown",
      "metadata": {
        "id": "7P_W0Ir-itMu"
      },
      "source": [
        "## Explore results"
      ]
    },
    {
      "cell_type": "code",
      "metadata": {
        "id": "lWGNVgMekNQr",
        "colab": {
          "base_uri": "https://localhost:8080/"
        },
        "outputId": "0117b8d2-db65-45cb-b8ee-9a0cf37abeea"
      },
      "source": [
        "print(run_name)"
      ],
      "execution_count": 16,
      "outputs": [
        {
          "output_type": "stream",
          "name": "stdout",
          "text": [
            "fine_tuning_run1\n"
          ]
        }
      ]
    },
    {
      "cell_type": "code",
      "metadata": {
        "id": "DCcx5u7sbPTD"
      },
      "source": [
        " # Copy the model from G-Drive if it wasn't trained in this Colab session.\n",
        "gpt2.copy_checkpoint_from_gdrive(run_name=run_name)"
      ],
      "execution_count": null,
      "outputs": []
    },
    {
      "cell_type": "code",
      "metadata": {
        "id": "KkSL_kfii591"
      },
      "source": [
        "import tensorflow as tf\n",
        "tf.keras.backend.clear_session()"
      ],
      "execution_count": 17,
      "outputs": []
    },
    {
      "cell_type": "code",
      "metadata": {
        "id": "-fxL77nvAMAX",
        "colab": {
          "base_uri": "https://localhost:8080/"
        },
        "outputId": "7e1f1e61-5192-45b5-dc3a-af000119d41c"
      },
      "source": [
        "# Load the model.\n",
        "sess = gpt2.start_tf_sess()\n",
        "gpt2.load_gpt2(sess, run_name=run_name)"
      ],
      "execution_count": 18,
      "outputs": [
        {
          "output_type": "stream",
          "name": "stdout",
          "text": [
            "Loading checkpoint checkpoint/fine_tuning_run1/model-18\n"
          ]
        }
      ]
    },
    {
      "cell_type": "markdown",
      "metadata": {
        "id": "15Es5HiU_GGm"
      },
      "source": [
        "Conditional generation (give the model an input prompt)"
      ]
    },
    {
      "cell_type": "code",
      "metadata": {
        "id": "82hy6qlX_FtR"
      },
      "source": [
        "input_prompt = \"what is conductor and an insulator\""
      ],
      "execution_count": 22,
      "outputs": []
    },
    {
      "cell_type": "code",
      "metadata": {
        "id": "_WY9OUZmMqEr",
        "colab": {
          "base_uri": "https://localhost:8080/"
        },
        "outputId": "cfa65f0d-fd14-4405-a0f7-63ea1511694b"
      },
      "source": [
        "gpt2.generate(sess, run_name=run_name, temperature=.7, length=100, prefix=input_prompt, top_k=40, nsamples=1)"
      ],
      "execution_count": 23,
      "outputs": [
        {
          "output_type": "stream",
          "name": "stdout",
          "text": [
            "what is conductor and an insulator)?\n",
            "\n",
            "Answer: A conductor is a piece of metal that surrounds a conductor and connects it to its electronic base. It is usually considered the center of gravity of the object, and it is the conductor of electromagnetic radiation. It has a positive and a negative charge, and can be used to transmit or receive signals. Examples of a conductor include a conductor with a strong magnetic field, a metallic tumbler, and a conductor with a weak magnetic field.\n",
            "\n",
            "Answer: An insulator is\n"
          ]
        }
      ]
    }
  ]
}